{
  "nbformat": 4,
  "nbformat_minor": 0,
  "metadata": {
    "colab": {
      "name": "CNN_Trial1.ipynb",
      "provenance": [],
      "collapsed_sections": []
    },
    "kernelspec": {
      "name": "python3",
      "display_name": "Python 3"
    }
  },
  "cells": [
    {
      "cell_type": "markdown",
      "metadata": {
        "id": "EcvhLYKpMrHZ"
      },
      "source": [
        ""
      ]
    },
    {
      "cell_type": "code",
      "metadata": {
        "id": "3mWjDX9xiV0r"
      },
      "source": [
        "import os, re, glob\n",
        "import cv2\n",
        "from sklearn.model_selection import train_test_split\n",
        "from keras.models import Sequential\n",
        "from keras.layers import Dropout, Activation, Dense\n",
        "from keras.layers import Flatten, Convolution2D, MaxPooling2D"
      ],
      "execution_count": null,
      "outputs": []
    },
    {
      "cell_type": "code",
      "metadata": {
        "id": "anVzq1DmiaUZ"
      },
      "source": [
        "import numpy as np\n",
        "import matplotlib.pyplot as plt\n",
        "import h5py\n",
        "import cv2\n",
        "from sklearn.model_selection import train_test_split"
      ],
      "execution_count": null,
      "outputs": []
    },
    {
      "cell_type": "code",
      "metadata": {
        "colab": {
          "base_uri": "https://localhost:8080/"
        },
        "id": "3fOcEw4AyPB0",
        "outputId": "2e14fb19-f21c-455a-f89b-1a5c90d67b16"
      },
      "source": [
        "from google.colab import drive\n",
        "drive.mount('/content/gdrive')"
      ],
      "execution_count": null,
      "outputs": [
        {
          "output_type": "stream",
          "text": [
            "Drive already mounted at /content/gdrive; to attempt to forcibly remount, call drive.mount(\"/content/gdrive\", force_remount=True).\n"
          ],
          "name": "stdout"
        }
      ]
    },
    {
      "cell_type": "code",
      "metadata": {
        "colab": {
          "base_uri": "https://localhost:8080/"
        },
        "id": "aMM3aqK7iztN",
        "outputId": "65a34a12-7e1b-454d-df6e-5363d836ef63"
      },
      "source": [
        "imagePath = '/content/gdrive/MyDrive/images/'\n",
        "categories = [\"DoveDeodorant\", \"Duft&DoftBodyMist\", \"Duft&DoftHandCream\"]\n",
        "nb_classes = len(categories)\n",
        "\n",
        "image_w = 128\n",
        "image_h = 128\n",
        "\n",
        "X = []\n",
        "y = []\n",
        "\n",
        "for idx, cat in enumerate(categories):\n",
        "  label = [0 for i in range(nb_classes)]\n",
        "  label[idx] = 1\n",
        "  image_dir = imagePath + '/' + cat + '/'\n",
        "\n",
        "  for top, dir, f in os.walk(image_dir):\n",
        "    for filename in f:\n",
        "      print(image_dir+filename)\n",
        "      img = cv2.imread(image_dir+filename)\n",
        "      img = cv2.resize(img, None, fx=128/img.shape[0], fy=128/img.shape[1])\n",
        "      X.append(img/256)\n",
        "      y.append(label)\n",
        "  \n",
        "X = np.array(X)\n",
        "y = np.array(y)\n",
        "\n",
        "X_train, X_test, y_train, y_test = train_test_split(X, y)\n",
        "xy = (X_train, X_test, y_train, y_test)\n",
        "\n",
        "np.save(\"/content/gdrive/MyDrive/obj.npy\", xy)"
      ],
      "execution_count": null,
      "outputs": [
        {
          "output_type": "stream",
          "text": [
            "/content/gdrive/MyDrive/images//DoveDeodorant/KakaoTalk_20201128_035227788.jpg\n",
            "/content/gdrive/MyDrive/images//DoveDeodorant/KakaoTalk_20201128_035227788_01.jpg\n",
            "/content/gdrive/MyDrive/images//DoveDeodorant/KakaoTalk_20201128_035227788_02.jpg\n",
            "/content/gdrive/MyDrive/images//DoveDeodorant/KakaoTalk_20201128_035227788_03.jpg\n",
            "/content/gdrive/MyDrive/images//DoveDeodorant/KakaoTalk_20201128_035227788_05.jpg\n",
            "/content/gdrive/MyDrive/images//DoveDeodorant/KakaoTalk_20201128_035227788_04.jpg\n",
            "/content/gdrive/MyDrive/images//DoveDeodorant/KakaoTalk_20201128_035227788_06.jpg\n",
            "/content/gdrive/MyDrive/images//DoveDeodorant/KakaoTalk_20201128_035227788_07.jpg\n",
            "/content/gdrive/MyDrive/images//DoveDeodorant/KakaoTalk_20201128_035227788_09.jpg\n",
            "/content/gdrive/MyDrive/images//DoveDeodorant/KakaoTalk_20201128_035227788_08.jpg\n",
            "/content/gdrive/MyDrive/images//DoveDeodorant/KakaoTalk_20201128_035227788_11.jpg\n",
            "/content/gdrive/MyDrive/images//DoveDeodorant/KakaoTalk_20201128_035227788_10.jpg\n",
            "/content/gdrive/MyDrive/images//DoveDeodorant/KakaoTalk_20201128_035227788_13.jpg\n",
            "/content/gdrive/MyDrive/images//DoveDeodorant/KakaoTalk_20201128_035227788_12.jpg\n",
            "/content/gdrive/MyDrive/images//DoveDeodorant/KakaoTalk_20201128_035227788_14.jpg\n",
            "/content/gdrive/MyDrive/images//DoveDeodorant/KakaoTalk_20201128_035227788_15.jpg\n",
            "/content/gdrive/MyDrive/images//DoveDeodorant/KakaoTalk_20201128_035227788_16.jpg\n",
            "/content/gdrive/MyDrive/images//DoveDeodorant/KakaoTalk_20201128_035227788_17.jpg\n",
            "/content/gdrive/MyDrive/images//DoveDeodorant/KakaoTalk_20201128_035227788_18.jpg\n",
            "/content/gdrive/MyDrive/images//DoveDeodorant/KakaoTalk_20201128_035227788_19.jpg\n",
            "/content/gdrive/MyDrive/images//DoveDeodorant/KakaoTalk_20201128_035419975_01.jpg\n",
            "/content/gdrive/MyDrive/images//DoveDeodorant/KakaoTalk_20201128_035419975.jpg\n",
            "/content/gdrive/MyDrive/images//DoveDeodorant/KakaoTalk_20201128_035419975_02.jpg\n",
            "/content/gdrive/MyDrive/images//DoveDeodorant/KakaoTalk_20201128_035419975_03.jpg\n",
            "/content/gdrive/MyDrive/images//DoveDeodorant/KakaoTalk_20201128_035419975_04.jpg\n",
            "/content/gdrive/MyDrive/images//DoveDeodorant/KakaoTalk_20201128_035419975_05.jpg\n",
            "/content/gdrive/MyDrive/images//DoveDeodorant/KakaoTalk_20201128_035419975_07.jpg\n",
            "/content/gdrive/MyDrive/images//DoveDeodorant/KakaoTalk_20201128_035419975_06.jpg\n",
            "/content/gdrive/MyDrive/images//DoveDeodorant/KakaoTalk_20201128_035419975_09.jpg\n",
            "/content/gdrive/MyDrive/images//DoveDeodorant/KakaoTalk_20201128_035419975_08.jpg\n",
            "/content/gdrive/MyDrive/images//DoveDeodorant/KakaoTalk_20201128_035419975_10.jpg\n",
            "/content/gdrive/MyDrive/images//DoveDeodorant/KakaoTalk_20201128_035419975_11.jpg\n",
            "/content/gdrive/MyDrive/images//DoveDeodorant/KakaoTalk_20201128_035419975_13.jpg\n",
            "/content/gdrive/MyDrive/images//DoveDeodorant/KakaoTalk_20201128_035419975_14.jpg\n",
            "/content/gdrive/MyDrive/images//DoveDeodorant/KakaoTalk_20201128_035419975_12.jpg\n",
            "/content/gdrive/MyDrive/images//DoveDeodorant/KakaoTalk_20201128_035419975_15.jpg\n",
            "/content/gdrive/MyDrive/images//DoveDeodorant/KakaoTalk_20201128_035419975_16.jpg\n",
            "/content/gdrive/MyDrive/images//DoveDeodorant/KakaoTalk_20201128_035419975_17.jpg\n",
            "/content/gdrive/MyDrive/images//DoveDeodorant/KakaoTalk_20201128_035419975_19.jpg\n",
            "/content/gdrive/MyDrive/images//DoveDeodorant/KakaoTalk_20201128_035419975_18.jpg\n",
            "/content/gdrive/MyDrive/images//Duft&DoftBodyMist/KakaoTalk_20201128_033832794.jpg\n",
            "/content/gdrive/MyDrive/images//Duft&DoftBodyMist/KakaoTalk_20201128_033832794_02.jpg\n",
            "/content/gdrive/MyDrive/images//Duft&DoftBodyMist/KakaoTalk_20201128_033832794_01.jpg\n",
            "/content/gdrive/MyDrive/images//Duft&DoftBodyMist/KakaoTalk_20201128_033832794_04.jpg\n",
            "/content/gdrive/MyDrive/images//Duft&DoftBodyMist/KakaoTalk_20201128_033832794_03.jpg\n",
            "/content/gdrive/MyDrive/images//Duft&DoftBodyMist/KakaoTalk_20201128_033832794_05.jpg\n",
            "/content/gdrive/MyDrive/images//Duft&DoftBodyMist/KakaoTalk_20201128_033832794_06.jpg\n",
            "/content/gdrive/MyDrive/images//Duft&DoftBodyMist/KakaoTalk_20201128_033832794_08.jpg\n",
            "/content/gdrive/MyDrive/images//Duft&DoftBodyMist/KakaoTalk_20201128_033832794_09.jpg\n",
            "/content/gdrive/MyDrive/images//Duft&DoftBodyMist/KakaoTalk_20201128_033832794_07.jpg\n",
            "/content/gdrive/MyDrive/images//Duft&DoftBodyMist/KakaoTalk_20201128_033832794_10.jpg\n",
            "/content/gdrive/MyDrive/images//Duft&DoftBodyMist/KakaoTalk_20201128_033832794_11.jpg\n",
            "/content/gdrive/MyDrive/images//Duft&DoftBodyMist/KakaoTalk_20201128_033832794_12.jpg\n",
            "/content/gdrive/MyDrive/images//Duft&DoftBodyMist/KakaoTalk_20201128_033832794_13.jpg\n",
            "/content/gdrive/MyDrive/images//Duft&DoftBodyMist/KakaoTalk_20201128_033832794_15.jpg\n",
            "/content/gdrive/MyDrive/images//Duft&DoftBodyMist/KakaoTalk_20201128_033832794_14.jpg\n",
            "/content/gdrive/MyDrive/images//Duft&DoftBodyMist/KakaoTalk_20201128_033832794_17.jpg\n",
            "/content/gdrive/MyDrive/images//Duft&DoftBodyMist/KakaoTalk_20201128_033832794_16.jpg\n",
            "/content/gdrive/MyDrive/images//Duft&DoftBodyMist/KakaoTalk_20201128_033832794_18.jpg\n",
            "/content/gdrive/MyDrive/images//Duft&DoftBodyMist/KakaoTalk_20201128_033832794_19.jpg\n",
            "/content/gdrive/MyDrive/images//Duft&DoftBodyMist/KakaoTalk_20201128_033950641_01.jpg\n",
            "/content/gdrive/MyDrive/images//Duft&DoftBodyMist/KakaoTalk_20201128_033950641.jpg\n",
            "/content/gdrive/MyDrive/images//Duft&DoftBodyMist/KakaoTalk_20201128_033950641_03.jpg\n",
            "/content/gdrive/MyDrive/images//Duft&DoftBodyMist/KakaoTalk_20201128_033950641_02.jpg\n",
            "/content/gdrive/MyDrive/images//Duft&DoftBodyMist/KakaoTalk_20201128_033950641_04.jpg\n",
            "/content/gdrive/MyDrive/images//Duft&DoftBodyMist/KakaoTalk_20201128_033950641_05.jpg\n",
            "/content/gdrive/MyDrive/images//Duft&DoftBodyMist/KakaoTalk_20201128_033950641_06.jpg\n",
            "/content/gdrive/MyDrive/images//Duft&DoftBodyMist/KakaoTalk_20201128_033950641_07.jpg\n",
            "/content/gdrive/MyDrive/images//Duft&DoftBodyMist/KakaoTalk_20201128_033950641_08.jpg\n",
            "/content/gdrive/MyDrive/images//Duft&DoftBodyMist/KakaoTalk_20201128_033950641_09.jpg\n",
            "/content/gdrive/MyDrive/images//Duft&DoftBodyMist/KakaoTalk_20201128_033950641_11.jpg\n",
            "/content/gdrive/MyDrive/images//Duft&DoftBodyMist/KakaoTalk_20201128_033950641_12.jpg\n",
            "/content/gdrive/MyDrive/images//Duft&DoftBodyMist/KakaoTalk_20201128_033950641_10.jpg\n",
            "/content/gdrive/MyDrive/images//Duft&DoftBodyMist/KakaoTalk_20201128_034335951.jpg\n",
            "/content/gdrive/MyDrive/images//Duft&DoftBodyMist/KakaoTalk_20201128_034335951_01.jpg\n",
            "/content/gdrive/MyDrive/images//Duft&DoftBodyMist/KakaoTalk_20201128_034335951_03.jpg\n",
            "/content/gdrive/MyDrive/images//Duft&DoftBodyMist/KakaoTalk_20201128_034335951_02.jpg\n",
            "/content/gdrive/MyDrive/images//Duft&DoftBodyMist/KakaoTalk_20201128_034335951_04.jpg\n",
            "/content/gdrive/MyDrive/images//Duft&DoftBodyMist/KakaoTalk_20201128_034335951_05.jpg\n",
            "/content/gdrive/MyDrive/images//Duft&DoftBodyMist/KakaoTalk_20201128_034335951_06.jpg\n",
            "/content/gdrive/MyDrive/images//Duft&DoftHandCream/KakaoTalk_20201128_033443389.jpg\n",
            "/content/gdrive/MyDrive/images//Duft&DoftHandCream/KakaoTalk_20201128_033443389_01.jpg\n",
            "/content/gdrive/MyDrive/images//Duft&DoftHandCream/KakaoTalk_20201128_033443389_02.jpg\n",
            "/content/gdrive/MyDrive/images//Duft&DoftHandCream/KakaoTalk_20201128_033443389_03.jpg\n",
            "/content/gdrive/MyDrive/images//Duft&DoftHandCream/KakaoTalk_20201128_033443389_04.jpg\n",
            "/content/gdrive/MyDrive/images//Duft&DoftHandCream/KakaoTalk_20201128_033443389_05.jpg\n",
            "/content/gdrive/MyDrive/images//Duft&DoftHandCream/KakaoTalk_20201128_033443389_07.jpg\n",
            "/content/gdrive/MyDrive/images//Duft&DoftHandCream/KakaoTalk_20201128_033443389_06.jpg\n",
            "/content/gdrive/MyDrive/images//Duft&DoftHandCream/KakaoTalk_20201128_033443389_08.jpg\n",
            "/content/gdrive/MyDrive/images//Duft&DoftHandCream/KakaoTalk_20201128_033443389_09.jpg\n",
            "/content/gdrive/MyDrive/images//Duft&DoftHandCream/KakaoTalk_20201128_033443389_10.jpg\n",
            "/content/gdrive/MyDrive/images//Duft&DoftHandCream/KakaoTalk_20201128_033443389_11.jpg\n",
            "/content/gdrive/MyDrive/images//Duft&DoftHandCream/KakaoTalk_20201128_033443389_13.jpg\n",
            "/content/gdrive/MyDrive/images//Duft&DoftHandCream/KakaoTalk_20201128_033443389_12.jpg\n",
            "/content/gdrive/MyDrive/images//Duft&DoftHandCream/KakaoTalk_20201128_033443389_15.jpg\n",
            "/content/gdrive/MyDrive/images//Duft&DoftHandCream/KakaoTalk_20201128_033443389_14.jpg\n",
            "/content/gdrive/MyDrive/images//Duft&DoftHandCream/KakaoTalk_20201128_033443389_16.jpg\n",
            "/content/gdrive/MyDrive/images//Duft&DoftHandCream/KakaoTalk_20201128_033443389_18.jpg\n",
            "/content/gdrive/MyDrive/images//Duft&DoftHandCream/KakaoTalk_20201128_033443389_17.jpg\n",
            "/content/gdrive/MyDrive/images//Duft&DoftHandCream/KakaoTalk_20201128_033443389_19.jpg\n",
            "/content/gdrive/MyDrive/images//Duft&DoftHandCream/KakaoTalk_20201128_034809084.jpg\n",
            "/content/gdrive/MyDrive/images//Duft&DoftHandCream/KakaoTalk_20201128_034809084_01.jpg\n",
            "/content/gdrive/MyDrive/images//Duft&DoftHandCream/KakaoTalk_20201128_034809084_02.jpg\n",
            "/content/gdrive/MyDrive/images//Duft&DoftHandCream/KakaoTalk_20201128_034809084_03.jpg\n",
            "/content/gdrive/MyDrive/images//Duft&DoftHandCream/KakaoTalk_20201128_034809084_04.jpg\n",
            "/content/gdrive/MyDrive/images//Duft&DoftHandCream/KakaoTalk_20201128_034809084_06.jpg\n",
            "/content/gdrive/MyDrive/images//Duft&DoftHandCream/KakaoTalk_20201128_034809084_05.jpg\n",
            "/content/gdrive/MyDrive/images//Duft&DoftHandCream/KakaoTalk_20201128_034809084_07.jpg\n",
            "/content/gdrive/MyDrive/images//Duft&DoftHandCream/KakaoTalk_20201128_034809084_08.jpg\n",
            "/content/gdrive/MyDrive/images//Duft&DoftHandCream/KakaoTalk_20201128_034809084_09.jpg\n",
            "/content/gdrive/MyDrive/images//Duft&DoftHandCream/KakaoTalk_20201128_034809084_10.jpg\n",
            "/content/gdrive/MyDrive/images//Duft&DoftHandCream/KakaoTalk_20201128_034809084_11.jpg\n",
            "/content/gdrive/MyDrive/images//Duft&DoftHandCream/KakaoTalk_20201128_034809084_12.jpg\n",
            "/content/gdrive/MyDrive/images//Duft&DoftHandCream/KakaoTalk_20201128_034809084_13.jpg\n",
            "/content/gdrive/MyDrive/images//Duft&DoftHandCream/KakaoTalk_20201128_034809084_14.jpg\n",
            "/content/gdrive/MyDrive/images//Duft&DoftHandCream/KakaoTalk_20201128_034809084_15.jpg\n",
            "/content/gdrive/MyDrive/images//Duft&DoftHandCream/KakaoTalk_20201128_034809084_17.jpg\n",
            "/content/gdrive/MyDrive/images//Duft&DoftHandCream/KakaoTalk_20201128_034809084_16.jpg\n",
            "/content/gdrive/MyDrive/images//Duft&DoftHandCream/KakaoTalk_20201128_034809084_19.jpg\n",
            "/content/gdrive/MyDrive/images//Duft&DoftHandCream/KakaoTalk_20201128_034809084_18.jpg\n"
          ],
          "name": "stdout"
        }
      ]
    },
    {
      "cell_type": "code",
      "metadata": {
        "colab": {
          "base_uri": "https://localhost:8080/"
        },
        "id": "NWflpapZs-bm",
        "outputId": "ae63243c-fc44-4eab-d914-ffe62bb7931c"
      },
      "source": [
        "X_train, X_test, y_train, y_test = np.load(\"/content/gdrive/MyDrive/obj.npy\")\n",
        "nb_classes = len(categories)\n",
        "print('X_train_shape', X_train.shape)"
      ],
      "execution_count": null,
      "outputs": [
        {
          "output_type": "stream",
          "text": [
            "X_train_shape (90, 128, 128, 3)\n"
          ],
          "name": "stdout"
        }
      ]
    },
    {
      "cell_type": "code",
      "metadata": {
        "id": "ZizW6r8n4fN2"
      },
      "source": [
        "model = Sequential()\n",
        "model.add(Convolution2D(32, (3, 3), padding='same', input_shape=X_train.shape[1:]))\n",
        "model.add(Activation('relu'))\n",
        "model.add(MaxPooling2D(pool_size=(2, 2)))\n",
        "model.add(Dropout(0.25))\n",
        "\n",
        "model.add(Convolution2D(64, (3, 3), padding='same'))\n",
        "model.add(Activation('relu'))\n",
        "model.add(Convolution2D(64, 3, 3))\n",
        "model.add(MaxPooling2D(pool_size=(2, 2)))\n",
        "model.add(Dropout(0.25))\n",
        "\n",
        "model.add(Flatten())\n",
        "model.add(Dense(256))\n",
        "model.add(Activation('relu'))\n",
        "model.add(Dropout(0.5))\n",
        "model.add(Dense(nb_classes))\n",
        "model.add(Activation('softmax'))\n",
        "\n",
        "model.compile(loss='binary_crossentropy', optimizer='Adam', metrics=['accuracy'])"
      ],
      "execution_count": null,
      "outputs": []
    },
    {
      "cell_type": "code",
      "metadata": {
        "colab": {
          "base_uri": "https://localhost:8080/"
        },
        "id": "NnQ79izi6Mww",
        "outputId": "efc2a2c5-619f-4457-d873-ddff683ef1c1"
      },
      "source": [
        "model.fit(X_train, y_train, batch_size=32, epochs=200)\n",
        "score = model.evaluate(X_test, y_test)\n",
        "print('loss==>' ,score[0])\n",
        "print('accuracy==>', score[1])"
      ],
      "execution_count": null,
      "outputs": [
        {
          "output_type": "stream",
          "text": [
            "Epoch 1/200\n",
            "3/3 [==============================] - 1s 472ms/step - loss: 1.0353 - accuracy: 0.2889\n",
            "Epoch 2/200\n",
            "3/3 [==============================] - 1s 458ms/step - loss: 0.7261 - accuracy: 0.3778\n",
            "Epoch 3/200\n",
            "3/3 [==============================] - 1s 464ms/step - loss: 0.8020 - accuracy: 0.3222\n",
            "Epoch 4/200\n",
            "3/3 [==============================] - 1s 470ms/step - loss: 0.6761 - accuracy: 0.3444\n",
            "Epoch 5/200\n",
            "3/3 [==============================] - 1s 454ms/step - loss: 0.5999 - accuracy: 0.5111\n",
            "Epoch 6/200\n",
            "3/3 [==============================] - 1s 467ms/step - loss: 0.6254 - accuracy: 0.4000\n",
            "Epoch 7/200\n",
            "3/3 [==============================] - 1s 455ms/step - loss: 0.6247 - accuracy: 0.4111\n",
            "Epoch 8/200\n",
            "3/3 [==============================] - 1s 463ms/step - loss: 0.5980 - accuracy: 0.5222\n",
            "Epoch 9/200\n",
            "3/3 [==============================] - 1s 466ms/step - loss: 0.5851 - accuracy: 0.5889\n",
            "Epoch 10/200\n",
            "3/3 [==============================] - 1s 459ms/step - loss: 0.5409 - accuracy: 0.5889\n",
            "Epoch 11/200\n",
            "3/3 [==============================] - 1s 462ms/step - loss: 0.4825 - accuracy: 0.7000\n",
            "Epoch 12/200\n",
            "3/3 [==============================] - 1s 454ms/step - loss: 0.3746 - accuracy: 0.7889\n",
            "Epoch 13/200\n",
            "3/3 [==============================] - 1s 457ms/step - loss: 0.2692 - accuracy: 0.8778\n",
            "Epoch 14/200\n",
            "3/3 [==============================] - 1s 458ms/step - loss: 0.2357 - accuracy: 0.8333\n",
            "Epoch 15/200\n",
            "3/3 [==============================] - 1s 462ms/step - loss: 0.2350 - accuracy: 0.8556\n",
            "Epoch 16/200\n",
            "3/3 [==============================] - 1s 462ms/step - loss: 0.1315 - accuracy: 0.9222\n",
            "Epoch 17/200\n",
            "3/3 [==============================] - 1s 462ms/step - loss: 0.1314 - accuracy: 0.9556\n",
            "Epoch 18/200\n",
            "3/3 [==============================] - 1s 462ms/step - loss: 0.1096 - accuracy: 0.9444\n",
            "Epoch 19/200\n",
            "3/3 [==============================] - 1s 456ms/step - loss: 0.0720 - accuracy: 0.9556\n",
            "Epoch 20/200\n",
            "3/3 [==============================] - 1s 458ms/step - loss: 0.0820 - accuracy: 0.9667\n",
            "Epoch 21/200\n",
            "3/3 [==============================] - 1s 455ms/step - loss: 0.0704 - accuracy: 0.9444\n",
            "Epoch 22/200\n",
            "3/3 [==============================] - 1s 456ms/step - loss: 0.0791 - accuracy: 0.9444\n",
            "Epoch 23/200\n",
            "3/3 [==============================] - 1s 462ms/step - loss: 0.1301 - accuracy: 0.9333\n",
            "Epoch 24/200\n",
            "3/3 [==============================] - 1s 459ms/step - loss: 0.0454 - accuracy: 0.9667\n",
            "Epoch 25/200\n",
            "3/3 [==============================] - 1s 459ms/step - loss: 0.0276 - accuracy: 1.0000\n",
            "Epoch 26/200\n",
            "3/3 [==============================] - 1s 457ms/step - loss: 0.0669 - accuracy: 0.9556\n",
            "Epoch 27/200\n",
            "3/3 [==============================] - 1s 458ms/step - loss: 0.0300 - accuracy: 0.9778\n",
            "Epoch 28/200\n",
            "3/3 [==============================] - 1s 455ms/step - loss: 0.0302 - accuracy: 0.9778\n",
            "Epoch 29/200\n",
            "3/3 [==============================] - 1s 454ms/step - loss: 0.0090 - accuracy: 1.0000\n",
            "Epoch 30/200\n",
            "3/3 [==============================] - 1s 461ms/step - loss: 0.0149 - accuracy: 1.0000\n",
            "Epoch 31/200\n",
            "3/3 [==============================] - 1s 454ms/step - loss: 0.0115 - accuracy: 1.0000\n",
            "Epoch 32/200\n",
            "3/3 [==============================] - 1s 466ms/step - loss: 0.0022 - accuracy: 1.0000\n",
            "Epoch 33/200\n",
            "3/3 [==============================] - 1s 466ms/step - loss: 0.0121 - accuracy: 0.9889\n",
            "Epoch 34/200\n",
            "3/3 [==============================] - 1s 476ms/step - loss: 0.0049 - accuracy: 1.0000\n",
            "Epoch 35/200\n",
            "3/3 [==============================] - 1s 460ms/step - loss: 0.0070 - accuracy: 1.0000\n",
            "Epoch 36/200\n",
            "3/3 [==============================] - 1s 459ms/step - loss: 0.0144 - accuracy: 0.9778\n",
            "Epoch 37/200\n",
            "3/3 [==============================] - 1s 458ms/step - loss: 0.0082 - accuracy: 0.9889\n",
            "Epoch 38/200\n",
            "3/3 [==============================] - 1s 459ms/step - loss: 0.0050 - accuracy: 1.0000\n",
            "Epoch 39/200\n",
            "3/3 [==============================] - 1s 454ms/step - loss: 0.0024 - accuracy: 1.0000\n",
            "Epoch 40/200\n",
            "3/3 [==============================] - 1s 452ms/step - loss: 0.0045 - accuracy: 1.0000\n",
            "Epoch 41/200\n",
            "3/3 [==============================] - 1s 457ms/step - loss: 0.0021 - accuracy: 1.0000\n",
            "Epoch 42/200\n",
            "3/3 [==============================] - 1s 452ms/step - loss: 0.0029 - accuracy: 1.0000\n",
            "Epoch 43/200\n",
            "3/3 [==============================] - 1s 452ms/step - loss: 8.8847e-04 - accuracy: 1.0000\n",
            "Epoch 44/200\n",
            "3/3 [==============================] - 1s 452ms/step - loss: 0.0013 - accuracy: 1.0000\n",
            "Epoch 45/200\n",
            "3/3 [==============================] - 1s 452ms/step - loss: 0.0085 - accuracy: 0.9889\n",
            "Epoch 46/200\n",
            "3/3 [==============================] - 1s 453ms/step - loss: 0.0041 - accuracy: 1.0000\n",
            "Epoch 47/200\n",
            "3/3 [==============================] - 1s 457ms/step - loss: 0.0060 - accuracy: 0.9889\n",
            "Epoch 48/200\n",
            "3/3 [==============================] - 1s 455ms/step - loss: 7.7390e-04 - accuracy: 1.0000\n",
            "Epoch 49/200\n",
            "3/3 [==============================] - 1s 459ms/step - loss: 0.0052 - accuracy: 1.0000\n",
            "Epoch 50/200\n",
            "3/3 [==============================] - 1s 458ms/step - loss: 0.0032 - accuracy: 1.0000\n",
            "Epoch 51/200\n",
            "3/3 [==============================] - 1s 462ms/step - loss: 0.0010 - accuracy: 1.0000\n",
            "Epoch 52/200\n",
            "3/3 [==============================] - 1s 456ms/step - loss: 5.6883e-04 - accuracy: 1.0000\n",
            "Epoch 53/200\n",
            "3/3 [==============================] - 1s 455ms/step - loss: 6.3453e-04 - accuracy: 1.0000\n",
            "Epoch 54/200\n",
            "3/3 [==============================] - 1s 463ms/step - loss: 0.0032 - accuracy: 1.0000\n",
            "Epoch 55/200\n",
            "3/3 [==============================] - 1s 456ms/step - loss: 5.6079e-04 - accuracy: 1.0000\n",
            "Epoch 56/200\n",
            "3/3 [==============================] - 1s 454ms/step - loss: 0.0013 - accuracy: 1.0000\n",
            "Epoch 57/200\n",
            "3/3 [==============================] - 1s 457ms/step - loss: 9.0800e-04 - accuracy: 1.0000\n",
            "Epoch 58/200\n",
            "3/3 [==============================] - 1s 457ms/step - loss: 4.7584e-04 - accuracy: 1.0000\n",
            "Epoch 59/200\n",
            "3/3 [==============================] - 1s 462ms/step - loss: 0.0014 - accuracy: 1.0000\n",
            "Epoch 60/200\n",
            "3/3 [==============================] - 1s 456ms/step - loss: 0.0012 - accuracy: 1.0000\n",
            "Epoch 61/200\n",
            "3/3 [==============================] - 1s 457ms/step - loss: 0.0010 - accuracy: 1.0000\n",
            "Epoch 62/200\n",
            "3/3 [==============================] - 1s 454ms/step - loss: 4.8898e-04 - accuracy: 1.0000\n",
            "Epoch 63/200\n",
            "3/3 [==============================] - 1s 451ms/step - loss: 7.1649e-04 - accuracy: 1.0000\n",
            "Epoch 64/200\n",
            "3/3 [==============================] - 1s 462ms/step - loss: 6.4644e-04 - accuracy: 1.0000\n",
            "Epoch 65/200\n",
            "3/3 [==============================] - 1s 456ms/step - loss: 8.5852e-04 - accuracy: 1.0000\n",
            "Epoch 66/200\n",
            "3/3 [==============================] - 1s 460ms/step - loss: 1.3903e-04 - accuracy: 1.0000\n",
            "Epoch 67/200\n",
            "3/3 [==============================] - 1s 454ms/step - loss: 4.0970e-04 - accuracy: 1.0000\n",
            "Epoch 68/200\n",
            "3/3 [==============================] - 1s 456ms/step - loss: 7.7811e-04 - accuracy: 1.0000\n",
            "Epoch 69/200\n",
            "3/3 [==============================] - 1s 466ms/step - loss: 7.7120e-04 - accuracy: 1.0000\n",
            "Epoch 70/200\n",
            "3/3 [==============================] - 1s 456ms/step - loss: 6.1199e-04 - accuracy: 1.0000\n",
            "Epoch 71/200\n",
            "3/3 [==============================] - 1s 458ms/step - loss: 2.0841e-04 - accuracy: 1.0000\n",
            "Epoch 72/200\n",
            "3/3 [==============================] - 1s 457ms/step - loss: 1.4493e-04 - accuracy: 1.0000\n",
            "Epoch 73/200\n",
            "3/3 [==============================] - 1s 456ms/step - loss: 3.8247e-04 - accuracy: 1.0000\n",
            "Epoch 74/200\n",
            "3/3 [==============================] - 1s 456ms/step - loss: 1.0717e-04 - accuracy: 1.0000\n",
            "Epoch 75/200\n",
            "3/3 [==============================] - 1s 453ms/step - loss: 9.9120e-04 - accuracy: 1.0000\n",
            "Epoch 76/200\n",
            "3/3 [==============================] - 1s 454ms/step - loss: 2.5437e-04 - accuracy: 1.0000\n",
            "Epoch 77/200\n",
            "3/3 [==============================] - 1s 456ms/step - loss: 2.5456e-05 - accuracy: 1.0000\n",
            "Epoch 78/200\n",
            "3/3 [==============================] - 1s 459ms/step - loss: 7.1766e-05 - accuracy: 1.0000\n",
            "Epoch 79/200\n",
            "3/3 [==============================] - 1s 456ms/step - loss: 1.7558e-04 - accuracy: 1.0000\n",
            "Epoch 80/200\n",
            "3/3 [==============================] - 1s 460ms/step - loss: 6.5750e-05 - accuracy: 1.0000\n",
            "Epoch 81/200\n",
            "3/3 [==============================] - 1s 456ms/step - loss: 3.3791e-04 - accuracy: 1.0000\n",
            "Epoch 82/200\n",
            "3/3 [==============================] - 1s 464ms/step - loss: 6.3451e-05 - accuracy: 1.0000\n",
            "Epoch 83/200\n",
            "3/3 [==============================] - 1s 464ms/step - loss: 3.0477e-04 - accuracy: 1.0000\n",
            "Epoch 84/200\n",
            "3/3 [==============================] - 1s 456ms/step - loss: 3.7196e-04 - accuracy: 1.0000\n",
            "Epoch 85/200\n",
            "3/3 [==============================] - 1s 452ms/step - loss: 1.1609e-04 - accuracy: 1.0000\n",
            "Epoch 86/200\n",
            "3/3 [==============================] - 1s 457ms/step - loss: 1.1585e-04 - accuracy: 1.0000\n",
            "Epoch 87/200\n",
            "3/3 [==============================] - 1s 454ms/step - loss: 6.1865e-04 - accuracy: 1.0000\n",
            "Epoch 88/200\n",
            "3/3 [==============================] - 1s 460ms/step - loss: 1.9253e-04 - accuracy: 1.0000\n",
            "Epoch 89/200\n",
            "3/3 [==============================] - 1s 454ms/step - loss: 1.7967e-04 - accuracy: 1.0000\n",
            "Epoch 90/200\n",
            "3/3 [==============================] - 1s 456ms/step - loss: 1.1392e-04 - accuracy: 1.0000\n",
            "Epoch 91/200\n",
            "3/3 [==============================] - 1s 458ms/step - loss: 1.1569e-04 - accuracy: 1.0000\n",
            "Epoch 92/200\n",
            "3/3 [==============================] - 1s 459ms/step - loss: 1.0789e-04 - accuracy: 1.0000\n",
            "Epoch 93/200\n",
            "3/3 [==============================] - 1s 467ms/step - loss: 1.6417e-04 - accuracy: 1.0000\n",
            "Epoch 94/200\n",
            "3/3 [==============================] - 1s 459ms/step - loss: 8.8118e-05 - accuracy: 1.0000\n",
            "Epoch 95/200\n",
            "3/3 [==============================] - 1s 454ms/step - loss: 5.5823e-05 - accuracy: 1.0000\n",
            "Epoch 96/200\n",
            "3/3 [==============================] - 1s 456ms/step - loss: 8.1357e-05 - accuracy: 1.0000\n",
            "Epoch 97/200\n",
            "3/3 [==============================] - 1s 460ms/step - loss: 1.4136e-04 - accuracy: 1.0000\n",
            "Epoch 98/200\n",
            "3/3 [==============================] - 1s 455ms/step - loss: 2.5810e-04 - accuracy: 1.0000\n",
            "Epoch 99/200\n",
            "3/3 [==============================] - 1s 454ms/step - loss: 9.7042e-05 - accuracy: 1.0000\n",
            "Epoch 100/200\n",
            "3/3 [==============================] - 1s 456ms/step - loss: 5.5469e-04 - accuracy: 1.0000\n",
            "Epoch 101/200\n",
            "3/3 [==============================] - 1s 461ms/step - loss: 8.0527e-05 - accuracy: 1.0000\n",
            "Epoch 102/200\n",
            "3/3 [==============================] - 1s 458ms/step - loss: 3.1647e-05 - accuracy: 1.0000\n",
            "Epoch 103/200\n",
            "3/3 [==============================] - 1s 458ms/step - loss: 6.8260e-05 - accuracy: 1.0000\n",
            "Epoch 104/200\n",
            "3/3 [==============================] - 1s 455ms/step - loss: 6.5355e-05 - accuracy: 1.0000\n",
            "Epoch 105/200\n",
            "3/3 [==============================] - 1s 456ms/step - loss: 2.8591e-04 - accuracy: 1.0000\n",
            "Epoch 106/200\n",
            "3/3 [==============================] - 1s 454ms/step - loss: 5.1829e-05 - accuracy: 1.0000\n",
            "Epoch 107/200\n",
            "3/3 [==============================] - 1s 456ms/step - loss: 1.0190e-04 - accuracy: 1.0000\n",
            "Epoch 108/200\n",
            "3/3 [==============================] - 1s 455ms/step - loss: 1.3098e-04 - accuracy: 1.0000\n",
            "Epoch 109/200\n",
            "3/3 [==============================] - 1s 454ms/step - loss: 2.6471e-04 - accuracy: 1.0000\n",
            "Epoch 110/200\n",
            "3/3 [==============================] - 1s 461ms/step - loss: 1.9722e-04 - accuracy: 1.0000\n",
            "Epoch 111/200\n",
            "3/3 [==============================] - 1s 459ms/step - loss: 8.0705e-05 - accuracy: 1.0000\n",
            "Epoch 112/200\n",
            "3/3 [==============================] - 1s 467ms/step - loss: 2.8073e-05 - accuracy: 1.0000\n",
            "Epoch 113/200\n",
            "3/3 [==============================] - 1s 456ms/step - loss: 6.7035e-05 - accuracy: 1.0000\n",
            "Epoch 114/200\n",
            "3/3 [==============================] - 1s 455ms/step - loss: 6.7055e-05 - accuracy: 1.0000\n",
            "Epoch 115/200\n",
            "3/3 [==============================] - 1s 456ms/step - loss: 2.6522e-04 - accuracy: 1.0000\n",
            "Epoch 116/200\n",
            "3/3 [==============================] - 1s 452ms/step - loss: 1.5495e-04 - accuracy: 1.0000\n",
            "Epoch 117/200\n",
            "3/3 [==============================] - 1s 462ms/step - loss: 1.4968e-04 - accuracy: 1.0000\n",
            "Epoch 118/200\n",
            "3/3 [==============================] - 1s 455ms/step - loss: 4.2004e-05 - accuracy: 1.0000\n",
            "Epoch 119/200\n",
            "3/3 [==============================] - 1s 458ms/step - loss: 4.9135e-05 - accuracy: 1.0000\n",
            "Epoch 120/200\n",
            "3/3 [==============================] - 1s 480ms/step - loss: 6.8490e-05 - accuracy: 1.0000\n",
            "Epoch 121/200\n",
            "3/3 [==============================] - 1s 483ms/step - loss: 1.1542e-04 - accuracy: 1.0000\n",
            "Epoch 122/200\n",
            "3/3 [==============================] - 1s 488ms/step - loss: 2.9877e-05 - accuracy: 1.0000\n",
            "Epoch 123/200\n",
            "3/3 [==============================] - 1s 463ms/step - loss: 1.1758e-04 - accuracy: 1.0000\n",
            "Epoch 124/200\n",
            "3/3 [==============================] - 1s 461ms/step - loss: 7.1982e-05 - accuracy: 1.0000\n",
            "Epoch 125/200\n",
            "3/3 [==============================] - 1s 461ms/step - loss: 9.2873e-05 - accuracy: 1.0000\n",
            "Epoch 126/200\n",
            "3/3 [==============================] - 1s 456ms/step - loss: 8.5103e-05 - accuracy: 1.0000\n",
            "Epoch 127/200\n",
            "3/3 [==============================] - 1s 459ms/step - loss: 5.3403e-05 - accuracy: 1.0000\n",
            "Epoch 128/200\n",
            "3/3 [==============================] - 1s 456ms/step - loss: 1.3788e-04 - accuracy: 1.0000\n",
            "Epoch 129/200\n",
            "3/3 [==============================] - 1s 457ms/step - loss: 4.7197e-05 - accuracy: 1.0000\n",
            "Epoch 130/200\n",
            "3/3 [==============================] - 1s 460ms/step - loss: 1.1124e-04 - accuracy: 1.0000\n",
            "Epoch 131/200\n",
            "3/3 [==============================] - 1s 457ms/step - loss: 3.8442e-05 - accuracy: 1.0000\n",
            "Epoch 132/200\n",
            "3/3 [==============================] - 1s 455ms/step - loss: 1.2145e-04 - accuracy: 1.0000\n",
            "Epoch 133/200\n",
            "3/3 [==============================] - 1s 454ms/step - loss: 1.3136e-04 - accuracy: 1.0000\n",
            "Epoch 134/200\n",
            "3/3 [==============================] - 1s 456ms/step - loss: 4.9444e-05 - accuracy: 1.0000\n",
            "Epoch 135/200\n",
            "3/3 [==============================] - 1s 459ms/step - loss: 1.1621e-04 - accuracy: 1.0000\n",
            "Epoch 136/200\n",
            "3/3 [==============================] - 1s 466ms/step - loss: 1.8007e-04 - accuracy: 1.0000\n",
            "Epoch 137/200\n",
            "3/3 [==============================] - 1s 452ms/step - loss: 9.0920e-05 - accuracy: 1.0000\n",
            "Epoch 138/200\n",
            "3/3 [==============================] - 1s 454ms/step - loss: 3.3259e-05 - accuracy: 1.0000\n",
            "Epoch 139/200\n",
            "3/3 [==============================] - 1s 459ms/step - loss: 9.4617e-05 - accuracy: 1.0000\n",
            "Epoch 140/200\n",
            "3/3 [==============================] - 1s 464ms/step - loss: 3.3286e-05 - accuracy: 1.0000\n",
            "Epoch 141/200\n",
            "3/3 [==============================] - 1s 464ms/step - loss: 1.0912e-04 - accuracy: 1.0000\n",
            "Epoch 142/200\n",
            "3/3 [==============================] - 1s 459ms/step - loss: 5.6389e-05 - accuracy: 1.0000\n",
            "Epoch 143/200\n",
            "3/3 [==============================] - 1s 457ms/step - loss: 4.2238e-05 - accuracy: 1.0000\n",
            "Epoch 144/200\n",
            "3/3 [==============================] - 1s 452ms/step - loss: 9.4938e-05 - accuracy: 1.0000\n",
            "Epoch 145/200\n",
            "3/3 [==============================] - 1s 455ms/step - loss: 5.5152e-05 - accuracy: 1.0000\n",
            "Epoch 146/200\n",
            "3/3 [==============================] - 1s 462ms/step - loss: 2.7036e-05 - accuracy: 1.0000\n",
            "Epoch 147/200\n",
            "3/3 [==============================] - 1s 458ms/step - loss: 7.5590e-05 - accuracy: 1.0000\n",
            "Epoch 148/200\n",
            "3/3 [==============================] - 1s 453ms/step - loss: 3.4426e-05 - accuracy: 1.0000\n",
            "Epoch 149/200\n",
            "3/3 [==============================] - 1s 463ms/step - loss: 1.1329e-05 - accuracy: 1.0000\n",
            "Epoch 150/200\n",
            "3/3 [==============================] - 1s 459ms/step - loss: 1.2551e-04 - accuracy: 1.0000\n",
            "Epoch 151/200\n",
            "3/3 [==============================] - 1s 457ms/step - loss: 1.3305e-05 - accuracy: 1.0000\n",
            "Epoch 152/200\n",
            "3/3 [==============================] - 1s 455ms/step - loss: 4.8923e-05 - accuracy: 1.0000\n",
            "Epoch 153/200\n",
            "3/3 [==============================] - 1s 461ms/step - loss: 9.8920e-05 - accuracy: 1.0000\n",
            "Epoch 154/200\n",
            "3/3 [==============================] - 1s 454ms/step - loss: 4.5360e-05 - accuracy: 1.0000\n",
            "Epoch 155/200\n",
            "3/3 [==============================] - 1s 456ms/step - loss: 3.7240e-05 - accuracy: 1.0000\n",
            "Epoch 156/200\n",
            "3/3 [==============================] - 1s 453ms/step - loss: 1.6319e-04 - accuracy: 1.0000\n",
            "Epoch 157/200\n",
            "3/3 [==============================] - 1s 460ms/step - loss: 6.3185e-05 - accuracy: 1.0000\n",
            "Epoch 158/200\n",
            "3/3 [==============================] - 1s 454ms/step - loss: 4.4365e-05 - accuracy: 1.0000\n",
            "Epoch 159/200\n",
            "3/3 [==============================] - 1s 459ms/step - loss: 9.4918e-05 - accuracy: 1.0000\n",
            "Epoch 160/200\n",
            "3/3 [==============================] - 1s 458ms/step - loss: 5.0841e-05 - accuracy: 1.0000\n",
            "Epoch 161/200\n",
            "3/3 [==============================] - 1s 456ms/step - loss: 4.8886e-05 - accuracy: 1.0000\n",
            "Epoch 162/200\n",
            "3/3 [==============================] - 1s 457ms/step - loss: 2.5715e-04 - accuracy: 1.0000\n",
            "Epoch 163/200\n",
            "3/3 [==============================] - 1s 457ms/step - loss: 2.3324e-05 - accuracy: 1.0000\n",
            "Epoch 164/200\n",
            "3/3 [==============================] - 1s 460ms/step - loss: 3.9120e-05 - accuracy: 1.0000\n",
            "Epoch 165/200\n",
            "3/3 [==============================] - 1s 466ms/step - loss: 6.6780e-04 - accuracy: 1.0000\n",
            "Epoch 166/200\n",
            "3/3 [==============================] - 1s 458ms/step - loss: 8.2339e-04 - accuracy: 1.0000\n",
            "Epoch 167/200\n",
            "3/3 [==============================] - 1s 459ms/step - loss: 1.3442e-04 - accuracy: 1.0000\n",
            "Epoch 168/200\n",
            "3/3 [==============================] - 1s 455ms/step - loss: 1.1663e-04 - accuracy: 1.0000\n",
            "Epoch 169/200\n",
            "3/3 [==============================] - 1s 459ms/step - loss: 2.6988e-04 - accuracy: 1.0000\n",
            "Epoch 170/200\n",
            "3/3 [==============================] - 1s 465ms/step - loss: 1.7002e-04 - accuracy: 1.0000\n",
            "Epoch 171/200\n",
            "3/3 [==============================] - 1s 459ms/step - loss: 0.0058 - accuracy: 1.0000\n",
            "Epoch 172/200\n",
            "3/3 [==============================] - 1s 458ms/step - loss: 0.0056 - accuracy: 1.0000\n",
            "Epoch 173/200\n",
            "3/3 [==============================] - 1s 454ms/step - loss: 1.1817e-04 - accuracy: 1.0000\n",
            "Epoch 174/200\n",
            "3/3 [==============================] - 1s 454ms/step - loss: 9.9201e-04 - accuracy: 1.0000\n",
            "Epoch 175/200\n",
            "3/3 [==============================] - 1s 461ms/step - loss: 0.0151 - accuracy: 0.9889\n",
            "Epoch 176/200\n",
            "3/3 [==============================] - 1s 499ms/step - loss: 0.0170 - accuracy: 0.9778\n",
            "Epoch 177/200\n",
            "3/3 [==============================] - 1s 475ms/step - loss: 0.0287 - accuracy: 0.9889\n",
            "Epoch 178/200\n",
            "3/3 [==============================] - 1s 483ms/step - loss: 0.0034 - accuracy: 1.0000\n",
            "Epoch 179/200\n",
            "3/3 [==============================] - 1s 455ms/step - loss: 0.0046 - accuracy: 1.0000\n",
            "Epoch 180/200\n",
            "3/3 [==============================] - 1s 455ms/step - loss: 0.0068 - accuracy: 0.9889\n",
            "Epoch 181/200\n",
            "3/3 [==============================] - 1s 462ms/step - loss: 0.0474 - accuracy: 0.9889\n",
            "Epoch 182/200\n",
            "3/3 [==============================] - 1s 453ms/step - loss: 0.0013 - accuracy: 1.0000\n",
            "Epoch 183/200\n",
            "3/3 [==============================] - 1s 456ms/step - loss: 0.0325 - accuracy: 0.9667\n",
            "Epoch 184/200\n",
            "3/3 [==============================] - 1s 464ms/step - loss: 0.0124 - accuracy: 0.9889\n",
            "Epoch 185/200\n",
            "3/3 [==============================] - 1s 454ms/step - loss: 0.0045 - accuracy: 1.0000\n",
            "Epoch 186/200\n",
            "3/3 [==============================] - 1s 457ms/step - loss: 0.0153 - accuracy: 0.9889\n",
            "Epoch 187/200\n",
            "3/3 [==============================] - 1s 458ms/step - loss: 0.0057 - accuracy: 1.0000\n",
            "Epoch 188/200\n",
            "3/3 [==============================] - 1s 457ms/step - loss: 0.0030 - accuracy: 1.0000\n",
            "Epoch 189/200\n",
            "3/3 [==============================] - 1s 464ms/step - loss: 0.0258 - accuracy: 0.9889\n",
            "Epoch 190/200\n",
            "3/3 [==============================] - 1s 454ms/step - loss: 0.0018 - accuracy: 1.0000\n",
            "Epoch 191/200\n",
            "3/3 [==============================] - 1s 458ms/step - loss: 0.0047 - accuracy: 1.0000\n",
            "Epoch 192/200\n",
            "3/3 [==============================] - 1s 458ms/step - loss: 3.0538e-04 - accuracy: 1.0000\n",
            "Epoch 193/200\n",
            "3/3 [==============================] - 1s 457ms/step - loss: 6.0129e-04 - accuracy: 1.0000\n",
            "Epoch 194/200\n",
            "3/3 [==============================] - 1s 466ms/step - loss: 3.2764e-04 - accuracy: 1.0000\n",
            "Epoch 195/200\n",
            "3/3 [==============================] - 1s 461ms/step - loss: 2.4802e-04 - accuracy: 1.0000\n",
            "Epoch 196/200\n",
            "3/3 [==============================] - 1s 463ms/step - loss: 0.0029 - accuracy: 1.0000\n",
            "Epoch 197/200\n",
            "3/3 [==============================] - 1s 462ms/step - loss: 0.0012 - accuracy: 1.0000\n",
            "Epoch 198/200\n",
            "3/3 [==============================] - 1s 457ms/step - loss: 3.6044e-04 - accuracy: 1.0000\n",
            "Epoch 199/200\n",
            "3/3 [==============================] - 1s 468ms/step - loss: 0.0024 - accuracy: 1.0000\n",
            "Epoch 200/200\n",
            "3/3 [==============================] - 1s 456ms/step - loss: 0.0079 - accuracy: 0.9889\n",
            "1/1 [==============================] - 0s 1ms/step - loss: 0.4756 - accuracy: 0.9000\n",
            "loss==> 0.4755629301071167\n",
            "accuracy==> 0.8999999761581421\n"
          ],
          "name": "stdout"
        }
      ]
    },
    {
      "cell_type": "code",
      "metadata": {
        "colab": {
          "base_uri": "https://localhost:8080/"
        },
        "id": "AiBaCb1uI0yB",
        "outputId": "2604e09c-5981-4fb2-a81b-42ad6f1022a6"
      },
      "source": [
        "model.save(\"/content/gdrive/MyDrive/CNNTrial1\")"
      ],
      "execution_count": null,
      "outputs": [
        {
          "output_type": "stream",
          "text": [
            "WARNING:tensorflow:From /usr/local/lib/python3.6/dist-packages/tensorflow/python/training/tracking/tracking.py:111: Model.state_updates (from tensorflow.python.keras.engine.training) is deprecated and will be removed in a future version.\n",
            "Instructions for updating:\n",
            "This property should not be used in TensorFlow 2.0, as updates are applied automatically.\n",
            "WARNING:tensorflow:From /usr/local/lib/python3.6/dist-packages/tensorflow/python/training/tracking/tracking.py:111: Layer.updates (from tensorflow.python.keras.engine.base_layer) is deprecated and will be removed in a future version.\n",
            "Instructions for updating:\n",
            "This property should not be used in TensorFlow 2.0, as updates are applied automatically.\n",
            "INFO:tensorflow:Assets written to: /content/gdrive/MyDrive/CNNTrial1/assets\n"
          ],
          "name": "stdout"
        }
      ]
    },
    {
      "cell_type": "code",
      "metadata": {
        "colab": {
          "base_uri": "https://localhost:8080/"
        },
        "id": "DtvvRGF87T4N",
        "outputId": "d4e72f01-3913-47aa-adcf-89d9711f86d0"
      },
      "source": [
        "def Dataization(imagePath):\n",
        "  image_w = 128\n",
        "  image_h = 128\n",
        "  img = cv2.imread(imagePath)\n",
        "  img = cv2.resize(img, None, fx=128/img.shape[0], fy=128/img.shape[1])\n",
        "  return(img/256)\n",
        "\n",
        "src = []\n",
        "name = []\n",
        "test = []\n",
        "image_dir = \"/content/gdrive/MyDrive/testdata/\"\n",
        "\n",
        "for file in os.listdir(image_dir):\n",
        "  src.append(image_dir+file)\n",
        "  name.append(file)\n",
        "  test.append(Dataization(image_dir+file))\n",
        "\n",
        "test = np.array(test)\n",
        "predict = model.predict_classes(test)"
      ],
      "execution_count": null,
      "outputs": [
        {
          "output_type": "stream",
          "text": [
            "WARNING:tensorflow:From <ipython-input-9-7d49124fb245>:19: Sequential.predict_classes (from tensorflow.python.keras.engine.sequential) is deprecated and will be removed after 2021-01-01.\n",
            "Instructions for updating:\n",
            "Please use instead:* `np.argmax(model.predict(x), axis=-1)`,   if your model does multi-class classification   (e.g. if it uses a `softmax` last-layer activation).* `(model.predict(x) > 0.5).astype(\"int32\")`,   if your model does binary classification   (e.g. if it uses a `sigmoid` last-layer activation).\n"
          ],
          "name": "stdout"
        }
      ]
    },
    {
      "cell_type": "code",
      "metadata": {
        "colab": {
          "base_uri": "https://localhost:8080/"
        },
        "id": "CbPhG19bIJPx",
        "outputId": "fa38ec18-64a3-4a9e-ba29-14565d920f23"
      },
      "source": [
        "for i in range(len(test)):\n",
        "  print(name[i]+\":, Predict: \"+ str(categories[predict[i]]))"
      ],
      "execution_count": null,
      "outputs": [
        {
          "output_type": "stream",
          "text": [
            "KakaoTalk_20201128_041114054_02.jpg:, Predict: Duft&DoftBodyMist\n",
            "KakaoTalk_20201128_041114054_01.jpg:, Predict: DoveDeodorant\n",
            "KakaoTalk_20201128_041114054.jpg:, Predict: Duft&DoftHandCream\n"
          ],
          "name": "stdout"
        }
      ]
    },
    {
      "cell_type": "code",
      "metadata": {
        "colab": {
          "base_uri": "https://localhost:8080/"
        },
        "id": "vU2BNRmyIbVo",
        "outputId": "01de51d3-3ff7-4da0-cf6e-80894f41bb86"
      },
      "source": [
        "import tensorflow as tf\n",
        "\n",
        "saved_model_dir = '/content/gdrive/MyDrive/CNNTrial1'\n",
        "converter = tf.lite.TFLiteConverter.from_saved_model(saved_model_dir)\n",
        "converter.target_spec.supported_ops = [tf.lite.OpsSet.TFLITE_BUILTINS,\n",
        "                                       tf.lite.OpsSet.SELECT_TF_OPS]\n",
        "tflite_model = converter.convert()\n",
        "open('/content/gdrive/MyDrive/CNNTrial1/converted_model.tflite', 'wb').write(tflite_model)"
      ],
      "execution_count": null,
      "outputs": [
        {
          "output_type": "execute_result",
          "data": {
            "text/plain": [
              "6787424"
            ]
          },
          "metadata": {
            "tags": []
          },
          "execution_count": 16
        }
      ]
    },
    {
      "cell_type": "code",
      "metadata": {
        "colab": {
          "base_uri": "https://localhost:8080/"
        },
        "id": "v4WfPnGdhlmA",
        "outputId": "b0ae82f2-9e45-4b1a-893a-742230d7dc77"
      },
      "source": [
        "X_test.shape"
      ],
      "execution_count": null,
      "outputs": [
        {
          "output_type": "execute_result",
          "data": {
            "text/plain": [
              "(30, 128, 128, 3)"
            ]
          },
          "metadata": {
            "tags": []
          },
          "execution_count": 12
        }
      ]
    },
    {
      "cell_type": "code",
      "metadata": {
        "colab": {
          "base_uri": "https://localhost:8080/"
        },
        "id": "0Gn4x3IChnM7",
        "outputId": "47fff660-fa09-47a6-bc87-67a2c56abbfd"
      },
      "source": [
        "test[1].shape"
      ],
      "execution_count": null,
      "outputs": [
        {
          "output_type": "execute_result",
          "data": {
            "text/plain": [
              "(128, 128, 3)"
            ]
          },
          "metadata": {
            "tags": []
          },
          "execution_count": 13
        }
      ]
    },
    {
      "cell_type": "code",
      "metadata": {
        "colab": {
          "base_uri": "https://localhost:8080/"
        },
        "id": "1dcyN7KbhvGV",
        "outputId": "e4532c3a-6ce6-4442-ba9a-a86b3a2727c4"
      },
      "source": [
        "model.summary()"
      ],
      "execution_count": null,
      "outputs": [
        {
          "output_type": "stream",
          "text": [
            "Model: \"sequential\"\n",
            "_________________________________________________________________\n",
            "Layer (type)                 Output Shape              Param #   \n",
            "=================================================================\n",
            "conv2d (Conv2D)              (None, 128, 128, 32)      896       \n",
            "_________________________________________________________________\n",
            "activation (Activation)      (None, 128, 128, 32)      0         \n",
            "_________________________________________________________________\n",
            "max_pooling2d (MaxPooling2D) (None, 64, 64, 32)        0         \n",
            "_________________________________________________________________\n",
            "dropout (Dropout)            (None, 64, 64, 32)        0         \n",
            "_________________________________________________________________\n",
            "conv2d_1 (Conv2D)            (None, 64, 64, 64)        18496     \n",
            "_________________________________________________________________\n",
            "activation_1 (Activation)    (None, 64, 64, 64)        0         \n",
            "_________________________________________________________________\n",
            "conv2d_2 (Conv2D)            (None, 21, 21, 64)        36928     \n",
            "_________________________________________________________________\n",
            "max_pooling2d_1 (MaxPooling2 (None, 10, 10, 64)        0         \n",
            "_________________________________________________________________\n",
            "dropout_1 (Dropout)          (None, 10, 10, 64)        0         \n",
            "_________________________________________________________________\n",
            "flatten (Flatten)            (None, 6400)              0         \n",
            "_________________________________________________________________\n",
            "dense (Dense)                (None, 256)               1638656   \n",
            "_________________________________________________________________\n",
            "activation_2 (Activation)    (None, 256)               0         \n",
            "_________________________________________________________________\n",
            "dropout_2 (Dropout)          (None, 256)               0         \n",
            "_________________________________________________________________\n",
            "dense_1 (Dense)              (None, 3)                 771       \n",
            "_________________________________________________________________\n",
            "activation_3 (Activation)    (None, 3)                 0         \n",
            "=================================================================\n",
            "Total params: 1,695,747\n",
            "Trainable params: 1,695,747\n",
            "Non-trainable params: 0\n",
            "_________________________________________________________________\n"
          ],
          "name": "stdout"
        }
      ]
    },
    {
      "cell_type": "code",
      "metadata": {
        "id": "-8cqn71wxGgc"
      },
      "source": [
        ""
      ],
      "execution_count": null,
      "outputs": []
    }
  ]
}